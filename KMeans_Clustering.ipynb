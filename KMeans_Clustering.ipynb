{
  "nbformat": 4,
  "nbformat_minor": 0,
  "metadata": {
    "colab": {
      "provenance": [],
      "authorship_tag": "ABX9TyOePZenOrYTvlm5Q0mcMSzi",
      "include_colab_link": true
    },
    "kernelspec": {
      "name": "python3",
      "display_name": "Python 3"
    },
    "language_info": {
      "name": "python"
    }
  },
  "cells": [
    {
      "cell_type": "markdown",
      "metadata": {
        "id": "view-in-github",
        "colab_type": "text"
      },
      "source": [
        "<a href=\"https://colab.research.google.com/github/Dharsenipriya/Ai_based_collab_project/blob/main/KMeans_Clustering.ipynb\" target=\"_parent\"><img src=\"https://colab.research.google.com/assets/colab-badge.svg\" alt=\"Open In Colab\"/></a>"
      ]
    },
    {
      "cell_type": "code",
      "execution_count": 4,
      "metadata": {
        "colab": {
          "base_uri": "https://localhost:8080/"
        },
        "id": "8MY57lYwjOvs",
        "outputId": "eb52a016-e3a6-477c-80d4-bfe3a9fd70cb"
      },
      "outputs": [
        {
          "output_type": "stream",
          "name": "stdout",
          "text": [
            "cluster_centers ≈ [(1.5, 1.0), (4.5, 3.5)]\n",
            "cluster_centers ≈ [(0.0, 0.5), (8.5, 8.5)]\n"
          ]
        }
      ],
      "source": [
        "def kmeans(points, k, iterations=5, decimals=2):\n",
        "\n",
        "    points = [(float(x), float(y)) for x, y in points]\n",
        "    centers = points[:k]\n",
        "\n",
        "    for _ in range(iterations):\n",
        "        clusters = [[] for _ in range(k)]\n",
        "        for x, y in points:\n",
        "            distances = [((x - cx) ** 2 + (y - cy) ** 2) for cx, cy in centers]\n",
        "            cluster_idx = distances.index(min(distances))\n",
        "            clusters[cluster_idx].append((x, y))\n",
        "\n",
        "        new_centers = []\n",
        "        for i, cluster in enumerate(clusters):\n",
        "            if cluster:  # mean of points\n",
        "                avg_x = sum(p[0] for p in cluster) / len(cluster)\n",
        "                avg_y = sum(p[1] for p in cluster) / len(cluster)\n",
        "                new_centers.append((avg_x, avg_y))\n",
        "            else:\n",
        "                new_centers.append(centers[i])\n",
        "        centers = new_centers\n",
        "\n",
        "    centers = [tuple(round(c, decimals) for c in center) for center in centers]\n",
        "    centers.sort()\n",
        "\n",
        "    return centers\n",
        "\n",
        "def run_kmeans(points, k):\n",
        "    centers = kmeans(points, k, iterations=5)\n",
        "    print(f\"cluster_centers ≈ {centers}\")\n",
        "\n",
        "\n",
        "# ---- Test Cases ----\n",
        "run_kmeans([(1,1), (2,1), (4,3), (5,4)], k=2)\n",
        "# Expected: cluster_centers ≈ [(1.5, 1.0), (4.5, 3.5)]\n",
        "\n",
        "run_kmeans([(0,0), (0,1), (9,8), (8,9)], k=2)\n",
        "# Expected: cluster_centers ≈ [(0.0, 0.5), (8.5, 8.5)]\n"
      ]
    }
  ]
}