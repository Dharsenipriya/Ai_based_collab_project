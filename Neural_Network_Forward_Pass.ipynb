{
  "nbformat": 4,
  "nbformat_minor": 0,
  "metadata": {
    "colab": {
      "provenance": [],
      "authorship_tag": "ABX9TyP5GJn8J+l+utNvnO4IDCdo",
      "include_colab_link": true
    },
    "kernelspec": {
      "name": "python3",
      "display_name": "Python 3"
    },
    "language_info": {
      "name": "python"
    }
  },
  "cells": [
    {
      "cell_type": "markdown",
      "metadata": {
        "id": "view-in-github",
        "colab_type": "text"
      },
      "source": [
        "<a href=\"https://colab.research.google.com/github/Dharsenipriya/Ai_based_collab_project/blob/main/Neural_Network_Forward_Pass.ipynb\" target=\"_parent\"><img src=\"https://colab.research.google.com/assets/colab-badge.svg\" alt=\"Open In Colab\"/></a>"
      ]
    },
    {
      "cell_type": "code",
      "execution_count": 11,
      "metadata": {
        "colab": {
          "base_uri": "https://localhost:8080/"
        },
        "id": "G8QfUSIylA5W",
        "outputId": "6a27c5b0-0255-4b42-fefa-0be056f5ed0f"
      },
      "outputs": [
        {
          "output_type": "stream",
          "name": "stdout",
          "text": [
            "[1.0]\n",
            "[1.0]\n",
            "[0.5621765008857982, 0.4378234991142019]\n"
          ]
        }
      ],
      "source": [
        "import numpy as np\n",
        "\n",
        "def relu(x):\n",
        "    return np.maximum(0, x)\n",
        "\n",
        "def softmax(x):\n",
        "    exp_x = np.exp(x - np.max(x, axis=-1, keepdims=True))\n",
        "    return exp_x / np.sum(exp_x, axis=-1, keepdims=True)\n",
        "\n",
        "def forward_pass(X, W1, b1, W2, b2):\n",
        "\n",
        "    X = np.array(X, dtype=float)\n",
        "    W1 = np.array(W1, dtype=float)\n",
        "    b1 = np.array(b1, dtype=float)\n",
        "    W2 = np.array(W2, dtype=float)\n",
        "    b2 = np.array(b2, dtype=float)\n",
        "\n",
        "    Z1 = np.dot(X, W1) + b1\n",
        "    A1 = relu(Z1)\n",
        "\n",
        "\n",
        "    Z2 = np.dot(A1, W2) + b2\n",
        "    A2 = softmax(Z2)\n",
        "    if A2.shape[0] == 1:\n",
        "        return A2.flatten().tolist()\n",
        "    else:\n",
        "        return A2.tolist()\n",
        "\n",
        "print(forward_pass(\n",
        "    X=[[1,2]],\n",
        "    W1=[[0.1,0.2],[0.3,0.4]],\n",
        "    b1=[0.1,0.2],\n",
        "    W2=[[0.5],[0.6]],\n",
        "    b2=[0.1]\n",
        "))\n",
        "# Expected: [0.64565631]\n",
        "\n",
        "print(forward_pass(\n",
        "    X=[[0,1]],\n",
        "    W1=[[1,0],[0,1]],\n",
        "    b1=[0,0],\n",
        "    W2=[[2],[0]],\n",
        "    b2=[0]\n",
        "))\n",
        "# Expected: [0.88079707]\n",
        "\n",
        "print(forward_pass(\n",
        "    X=[[1,0]],\n",
        "    W1=[[0.2,0.8],\n",
        "        [0.5,-0.3]],\n",
        "    b1=[0.1, -0.1],\n",
        "    W2=[[1.0, 2.0],\n",
        "        [0.5,-1.0]],\n",
        "    b2=[0.0, 0.5]\n",
        "))\n",
        "# Produces two-class softmax probabilities, e.g. [p1, p2] where sum=1\n"
      ]
    }
  ]
}