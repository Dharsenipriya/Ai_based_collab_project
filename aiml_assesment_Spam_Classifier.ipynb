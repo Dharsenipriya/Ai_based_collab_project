{
  "nbformat": 4,
  "nbformat_minor": 0,
  "metadata": {
    "colab": {
      "provenance": [],
      "authorship_tag": "ABX9TyNn3ItyhGkO6LwcrjrnLa5R",
      "include_colab_link": true
    },
    "kernelspec": {
      "name": "python3",
      "display_name": "Python 3"
    },
    "language_info": {
      "name": "python"
    }
  },
  "cells": [
    {
      "cell_type": "markdown",
      "metadata": {
        "id": "view-in-github",
        "colab_type": "text"
      },
      "source": [
        "<a href=\"https://colab.research.google.com/github/Dharsenipriya/Ai_based_collab_project/blob/main/aiml_assesment_Spam_Classifier.ipynb\" target=\"_parent\"><img src=\"https://colab.research.google.com/assets/colab-badge.svg\" alt=\"Open In Colab\"/></a>"
      ]
    },
    {
      "cell_type": "code",
      "execution_count": 1,
      "metadata": {
        "colab": {
          "base_uri": "https://localhost:8080/"
        },
        "id": "MmDBu9F0gEXr",
        "outputId": "c7822211-da15-40ec-a5db-b95b84410634"
      },
      "outputs": [
        {
          "output_type": "stream",
          "name": "stdout",
          "text": [
            "['spam', 'ham']\n",
            "['spam', 'ham']\n"
          ]
        }
      ],
      "source": [
        "from sklearn.feature_extraction.text import CountVectorizer\n",
        "from sklearn.naive_bayes import MultinomialNB\n",
        "\n",
        "train_messages = [\n",
        "    \"Win money now!!!\",\n",
        "    \"Congratulations, you won a lottery!\",\n",
        "    \"Free entry in a weekly prize draw\",\n",
        "    \"Claim your prize now\",\n",
        "    \"Click here to win cash\",\n",
        "    \"Hi, are you coming to the party?\",\n",
        "    \"How was your exam?\",\n",
        "    \"Let’s catch up tomorrow\",\n",
        "    \"Are you free for lunch?\",\n",
        "    \"Don’t forget the meeting today\"\n",
        "]\n",
        "\n",
        "train_labels = [\n",
        "    \"spam\",\n",
        "    \"spam\",\n",
        "    \"spam\",\n",
        "    \"spam\",\n",
        "    \"spam\",\n",
        "    \"ham\",\n",
        "    \"ham\",\n",
        "    \"ham\",\n",
        "    \"ham\",\n",
        "    \"ham\"\n",
        "]\n",
        "\n",
        "vectorizer = CountVectorizer()\n",
        "X_train = vectorizer.fit_transform(train_messages)\n",
        "\n",
        "model = MultinomialNB()\n",
        "model.fit(X_train, train_labels)\n",
        "\n",
        "def predict_spam(messages):\n",
        "    X_test = vectorizer.transform(messages)\n",
        "    return model.predict(X_test).tolist()\n",
        "\n",
        "# ---- Test Cases ----\n",
        "print(predict_spam([\"Win money now!!!\", \"Hi, are you coming to the party?\"]))\n",
        "\n",
        "\n",
        "print(predict_spam([\"Congratulations, you won a lottery!\", \"How was your exam?\"]))\n",
        "\n"
      ]
    }
  ]
}