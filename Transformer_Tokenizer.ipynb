{
  "nbformat": 4,
  "nbformat_minor": 0,
  "metadata": {
    "colab": {
      "provenance": [],
      "authorship_tag": "ABX9TyMGVkkRY1qIQDYASieQJeCl",
      "include_colab_link": true
    },
    "kernelspec": {
      "name": "python3",
      "display_name": "Python 3"
    },
    "language_info": {
      "name": "python"
    }
  },
  "cells": [
    {
      "cell_type": "markdown",
      "metadata": {
        "id": "view-in-github",
        "colab_type": "text"
      },
      "source": [
        "<a href=\"https://colab.research.google.com/github/Dharsenipriya/Ai_based_collab_project/blob/main/Transformer_Tokenizer.ipynb\" target=\"_parent\"><img src=\"https://colab.research.google.com/assets/colab-badge.svg\" alt=\"Open In Colab\"/></a>"
      ]
    },
    {
      "cell_type": "code",
      "execution_count": 1,
      "metadata": {
        "id": "j-wvm6-7oD5m",
        "outputId": "443cebb5-8d7b-4b68-f966-ec8cf6d6c2c1",
        "colab": {
          "base_uri": "https://localhost:8080/"
        }
      },
      "outputs": [
        {
          "output_type": "stream",
          "name": "stdout",
          "text": [
            "({'ai': 0, 'will': 1, 'change': 2, 'the': 3, 'world': 4}, [0, 1, 2, 3, 4])\n",
            "({'machine': 0, 'learning': 1, 'is': 2, 'fun': 3}, [0, 1, 2, 3, 0])\n",
            "({'extra': 0, 'spaces': 1, 'should': 2, 'not': 3, 'break': 4}, [0, 1, 2, 3, 4])\n"
          ]
        }
      ],
      "source": [
        "def tokenizer(text):\n",
        "    words = text.lower().strip().split()\n",
        "\n",
        "    vocab = {}\n",
        "    encoded = []\n",
        "    idx = 0\n",
        "\n",
        "    for word in words:\n",
        "        if word not in vocab:\n",
        "            vocab[word] = idx\n",
        "            idx += 1\n",
        "        encoded.append(vocab[word])\n",
        "\n",
        "    return vocab, encoded\n",
        "\n",
        "print(tokenizer(\"AI will change the world\"))\n",
        "\n",
        "print(tokenizer(\"machine learning is fun machine\"))\n",
        "# Expected: {\"machine\":0,\"learning\":1,\"is\":2,\"fun\":3}, [0,1,2,3,0]\n",
        "\n",
        "print(tokenizer(\"  Extra   spaces  should not   break  \"))\n",
        "# Example → {\"extra\":0,\"spaces\":1,\"should\":2,\"not\":3,\"break\":4}, [0,1,2,3,4]\n"
      ]
    }
  ]
}